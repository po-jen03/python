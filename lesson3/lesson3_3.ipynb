{
 "cells": [
  {
   "cell_type": "code",
   "execution_count": 11,
   "id": "8734e1b4",
   "metadata": {},
   "outputs": [
    {
     "name": "stdout",
     "output_type": "stream",
     "text": [
      "梯形的面積: 5980.62\n"
     ]
    }
   ],
   "source": [
    "#請輸入梯形的上底(公分):5\n",
    "#請輸入梯形的下底(公分):10\n",
    "#請輸入梯形的上高(公分):2\n",
    "\n",
    "top =  float(input(\"請輸入上底(公分)\"))\n",
    "bottom =  float(input(\"請輸入下底(公分)\"))\n",
    "height =  float(input(\"請輸入上高(公分)\"))\n",
    "\n",
    "area = (top + bottom) * height / 2\n",
    "print(\"梯形的面積:\",round(area,ndigits=2)) #round(number, ndigits=None) #在None帶入2的意思表示小數點2位"
   ]
  },
  {
   "cell_type": "code",
   "execution_count": null,
   "id": "1af0ff88",
   "metadata": {},
   "outputs": [
    {
     "data": {
      "text/plain": [
       "str"
      ]
     },
     "execution_count": 9,
     "metadata": {},
     "output_type": "execute_result"
    }
   ],
   "source": [
    "value = input(\"請輸入一個數值:\")\n",
    "type(value)\n",
    "value_flaot = flaot(value)\n",
    "value_flaot"
   ]
  },
  {
   "cell_type": "code",
   "execution_count": null,
   "id": "de6995c1",
   "metadata": {},
   "outputs": [],
   "source": [
    "value = float(input(\"請輸入一個數值\"))"
   ]
  }
 ],
 "metadata": {
  "kernelspec": {
   "display_name": "base",
   "language": "python",
   "name": "python3"
  },
  "language_info": {
   "codemirror_mode": {
    "name": "ipython",
    "version": 3
   },
   "file_extension": ".py",
   "mimetype": "text/x-python",
   "name": "python",
   "nbconvert_exporter": "python",
   "pygments_lexer": "ipython3",
   "version": "3.13.2"
  }
 },
 "nbformat": 4,
 "nbformat_minor": 5
}
