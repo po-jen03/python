{
 "cells": [
  {
   "cell_type": "code",
   "execution_count": 1,
   "id": "e988a3b8",
   "metadata": {},
   "outputs": [
    {
     "name": "stdout",
     "output_type": "stream",
     "text": [
      "Hellow! Python!\n"
     ]
    }
   ],
   "source": [
    "print(\"Hellow! Python!\")"
   ]
  },
  {
   "cell_type": "code",
   "execution_count": 3,
   "id": "0a28d342",
   "metadata": {},
   "outputs": [
    {
     "name": "stdout",
     "output_type": "stream",
     "text": [
      "10\n",
      "25\n"
     ]
    }
   ],
   "source": [
    "print( 5 + 5)\n",
    "\n",
    "print( 5 * 5)"
   ]
  }
 ],
 "metadata": {
  "kernelspec": {
   "display_name": "base",
   "language": "python",
   "name": "python3"
  },
  "language_info": {
   "codemirror_mode": {
    "name": "ipython",
    "version": 3
   },
   "file_extension": ".py",
   "mimetype": "text/x-python",
   "name": "python",
   "nbconvert_exporter": "python",
   "pygments_lexer": "ipython3",
   "version": "3.13.2"
  }
 },
 "nbformat": 4,
 "nbformat_minor": 5
}
